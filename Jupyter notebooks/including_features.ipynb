{
 "cells": [
  {
   "cell_type": "markdown",
   "metadata": {},
   "source": [
    "\n",
    "## Including extra features\n",
    "\n",
    "We are now introducing an additional feature: supplementary information beyond the \n",
    "image itself. In this example, we assume we have the object's size or at least an \n",
    "estimate of it.\n",
    "\n",
    "We will simulate the size from a normal distribution. We consider three scenarios\n",
    "* No overlap between the distributions of the sizes of each class\n",
    "* Partial between the distributions of the sizes of each class\n",
    "* High overlap between the distributions of the sizes of each class\n"
   ]
  },
  {
   "cell_type": "code",
   "execution_count": null,
   "metadata": {},
   "outputs": [],
   "source": [
    "import torch \n",
    "import numpy as np \n",
    "import matplotlib.pyplot as plt\n",
    "import torch.nn as nn\n",
    "from torch.utils.data import DataLoader\n",
    "\n",
    "%cd ..\n",
    "import modular.samples_setup as cs\n",
    "from modular import engine\n",
    "from modular import extra_functions as ef\n",
    "from modular import model_builder\n"
   ]
  },
  {
   "cell_type": "markdown",
   "metadata": {},
   "source": [
    "Let's first simulate some data. We will simulate a data sets with 3500 samples of squares and \n",
    "3500 samples of circles. In this case simulate data noise, but if you want you change this.\n",
    "\n",
    "For the sizes, we follow the three scenarios outlined earlier and consider three different mean values for squares and circles "
   ]
  },
  {
   "cell_type": "code",
   "execution_count": 2,
   "metadata": {},
   "outputs": [],
   "source": [
    "# Simulate data (with no noise)\n",
    "seed = 26\n",
    "n_samples = [3500] * 2\n",
    "\n",
    "# Parameters for the extra feature\n",
    "mu_c = np.array([-2,-1,-0.5,0])\n",
    "mu_s = np.array([2,1,0.5,0])\n",
    "sigma_s, sigma_c = 0.5, 0.5\n",
    "n_scenarios = len(mu_c)\n",
    "\n",
    "size_c = np.zeros((len(mu_c), n_samples[0]))\n",
    "size_s = np.zeros((len(mu_c), n_samples[1]))\n",
    "\n",
    "# Simulate images\n",
    "data = cs.generate_sample(n=n_samples, noise_prop=1,var=0.2,seed=seed)\n",
    "images, labels= (data['images'], data['labels'])\n",
    "\n",
    "# Simulate extra features by scenario\n",
    "for i in range(n_scenarios):\n",
    "    np.random.seed(seed)\n",
    "    size_c[i,] = np.random.normal(mu_c[i], sigma_c, n_samples[0])\n",
    "    size_s[i,] = np.random.normal(mu_s[i], sigma_s, n_samples[1])"
   ]
  },
  {
   "cell_type": "markdown",
   "metadata": {},
   "source": [
    "Let's examine how the features vary across the different scenarios"
   ]
  },
  {
   "cell_type": "code",
   "execution_count": 3,
   "metadata": {},
   "outputs": [
    {
     "data": {
      "image/png": "[encoded data removed]",
      "text/plain": [
       "<Figure size 864x288 with 4 Axes>"
      ]
     },
     "metadata": {
      "needs_background": "light"
     },
     "output_type": "display_data"
    }
   ],
   "source": [
    "# Plot size for each scenario\n",
    "fig, axes = plt.subplots(1, 4, figsize=(12, 4))\n",
    "\n",
    "for i in range(len(mu_c)):\n",
    "    feature_c = size_c[i,]\n",
    "    feature_s = size_s[i,]\n",
    "    axes[i].hist(feature_c, label = f' Size of circles', color = 'blue', alpha = 0.5)\n",
    "    axes[i].hist(feature_s, label = f' Size of squares', color = 'red', alpha = 0.5)\n",
    "    axes[i].legend()\n",
    "    axes[i].set(title=f'Scenario {i+1}')\n"
   ]
  },
  {
   "cell_type": "markdown",
   "metadata": {},
   "source": [
    "In the first scenario, we can see that the size alone is sufficient for classification, as there is no overlap. In scenario 2, while there is some overlap, it remains minimal. Scenario 3 represents the case with moderate overlap, and finally Scenario 4 occurs when both sizes have the same distribution, providing no additional information."
   ]
  },
  {
   "cell_type": "code",
   "execution_count": 4,
   "metadata": {},
   "outputs": [],
   "source": [
    "# Batch size and epochs\n",
    "BATCH_SIZE = 50\n",
    "EPOCHS = 12\n",
    "\n",
    "# Loss Function\n",
    "loss_fn = nn.CrossEntropyLoss()\n",
    "\n",
    "# To reduce variability when re-running \n",
    "torch.manual_seed(seed)\n",
    "torch.cuda.manual_seed(seed)\n",
    "torch.cuda.manual_seed_all(seed)\n",
    "torch.backends.cudnn.deterministic = True\n",
    "torch.backends.cudnn.benchmark = False\n",
    "\n",
    "# Split data into train and test sets\n",
    "n_test = int(sum(n_samples)*0.2)\n",
    "test_index = np.arange(n_test)\n",
    "train_index = np.arange(n_test, sum(n_samples))\n",
    "\n",
    "images_test = images[test_index]\n",
    "images_train = images[train_index]\n",
    "\n",
    "label_test = labels[test_index]\n",
    "label_train = labels[train_index]\n",
    "    \n",
    "# keep indices\n",
    "indx_s = np.where(labels==1)\n",
    "indx_c = np.where(labels==0)\n"
   ]
  },
  {
   "cell_type": "markdown",
   "metadata": {},
   "source": [
    "#### Train and test with no extra Feature"
   ]
  },
  {
   "cell_type": "code",
   "execution_count": 5,
   "metadata": {},
   "outputs": [
    {
     "name": "stdout",
     "output_type": "stream",
     "text": [
      "Test accuracy : 85.42857142857143\n",
      "Test Cross-Entropy index is : 5.3433664422084775\n"
     ]
    }
   ],
   "source": [
    "# Create tensors\n",
    "X_test = torch.from_numpy(images_test).type(torch.float)\n",
    "X_train = torch.from_numpy(images_train).type(torch.float)\n",
    "\n",
    "y_train = torch.from_numpy(label_train).type(torch.long)\n",
    "y_test = torch.from_numpy(label_test).type(torch.long)\n",
    "\n",
    "train_dataset = torch.utils.data.TensorDataset(X_train.unsqueeze(1), y_train)\n",
    "test_dataset = torch.utils.data.TensorDataset(X_test.unsqueeze(1), y_test)\n",
    "\n",
    "# Create data loader and turn datasets into iterables (batches)\n",
    "train_dataloader = DataLoader(train_dataset, \n",
    "                            batch_size=BATCH_SIZE, \n",
    "                            shuffle=False) \n",
    "\n",
    "test_dataloader = DataLoader(test_dataset,\n",
    "                            batch_size=BATCH_SIZE,\n",
    "                            shuffle=False)\n",
    "\n",
    "# Initialize model and optimizer\n",
    "model =  model_builder.TVGG(input_shape = 1,  \n",
    "                            hidden_units= 10, \n",
    "                            output_shape = 2)\n",
    "            \n",
    "optimizer = torch.optim.SGD(params=model.parameters(), lr=0.1)\n",
    "\n",
    "# Train test loop\n",
    "torch.manual_seed(42)\n",
    "output = engine.train_test_loop(model,train_dataloader,\n",
    "                                test_dataloader, optimizer, loss_fn,\n",
    "                                epochs=EPOCHS,print_b=False)\n",
    "\n",
    "accuracy_test_0  = output['test_acc'][EPOCHS-1] \n",
    "ce_test_0  = output['test_ce'][EPOCHS-1] \n",
    "\n",
    "print('Test accuracy :',accuracy_test_0)\n",
    "print('Test Cross-Entropy index is :',ce_test_0)\n"
   ]
  },
  {
   "cell_type": "markdown",
   "metadata": {},
   "source": [
    "#### Train and test including the Size"
   ]
  },
  {
   "cell_type": "code",
   "execution_count": 6,
   "metadata": {},
   "outputs": [],
   "source": [
    "# Keep accuracy test\n",
    "accuracy_test = np.zeros(n_scenarios )\n",
    "ce_test = np.zeros(n_scenarios)\n",
    "\n",
    "for i in range(n_scenarios):\n",
    "    \n",
    "    # Get extra feature\n",
    "    feature_c = size_c[i,]\n",
    "    feature_s = size_s[i,]\n",
    "    \n",
    "    extra_feature = np.zeros(len(labels))\n",
    "    extra_feature[indx_c] = feature_c\n",
    "    extra_feature[indx_s] = feature_s \n",
    "    \n",
    "    # Repeat each value as a 28x28 matrix to create channel\n",
    "    ef_arr = np.tile(extra_feature[:, np.newaxis, np.newaxis], (1, 28, 28))\n",
    "    ef_test = ef_arr[test_index]\n",
    "    ef_train = ef_arr[train_index]\n",
    "        \n",
    "    # Create tensors\n",
    "    X_test = torch.from_numpy(images_test).type(torch.float)\n",
    "    X_train = torch.from_numpy(images_train).type(torch.float)\n",
    "\n",
    "    F_test = torch.from_numpy(ef_test).type(torch.float)\n",
    "    F_train = torch.from_numpy(ef_train).type(torch.float)\n",
    "\n",
    "    y_train = torch.from_numpy(label_train).type(torch.long)\n",
    "    y_test = torch.from_numpy(label_test).type(torch.long)\n",
    "\n",
    "    # Combine channels \n",
    "    XF_train = torch.stack([X_train,F_train], dim=1)\n",
    "    XF_test = torch.stack([X_test,F_test], dim=1)\n",
    "\n",
    "    train_dataset = torch.utils.data.TensorDataset(XF_train, y_train)\n",
    "    test_dataset = torch.utils.data.TensorDataset(XF_test, y_test)\n",
    "    \n",
    "    # Create data loader and turn datasets into iterables (batches)\n",
    "    train_dataloader = DataLoader(train_dataset, \n",
    "                                batch_size=BATCH_SIZE, \n",
    "                                shuffle=False) \n",
    "\n",
    "    test_dataloader = DataLoader(test_dataset,\n",
    "                                batch_size=BATCH_SIZE,\n",
    "                                shuffle=False)\n",
    "\n",
    "    # Initialize model and optimizer\n",
    "    model =  model_builder.TVGG(input_shape = 2, #\n",
    "                                hidden_units= 10, \n",
    "                                output_shape=2)\n",
    "                \n",
    "    optimizer = torch.optim.SGD(params=model.parameters(), lr=0.1)\n",
    "    \n",
    "    # Train test loop\n",
    "    output = engine.train_test_loop(model,train_dataloader,\n",
    "                                    test_dataloader, optimizer, loss_fn,\n",
    "                                    epochs=EPOCHS,print_b=False)\n",
    "\n",
    "    accuracy_test[i]  = output['test_acc'][EPOCHS-1] \n",
    "    ce_test[i]  = output['test_ce'][EPOCHS-1] \n",
    "    "
   ]
  },
  {
   "cell_type": "markdown",
   "metadata": {},
   "source": [
    "Let's check the results"
   ]
  },
  {
   "cell_type": "code",
   "execution_count": 7,
   "metadata": {},
   "outputs": [
    {
     "name": "stdout",
     "output_type": "stream",
     "text": [
      "Test accuracy: [100.          98.42857143  88.21428571  84.92857143]\n",
      "Test Cross-Entropy: [0.         0.59587511 4.44243684 6.26717472]\n"
     ]
    }
   ],
   "source": [
    "print('Test accuracy:',accuracy_test)\n",
    "print('Test Cross-Entropy:',ce_test)"
   ]
  },
  {
   "cell_type": "markdown",
   "metadata": {},
   "source": [
    "We achieved perfect performance in Scenario 1, which is expected since the size\n",
    "distributions do not overlap. Performance improves in Scenario 2 and 3, while in \n",
    "Scenario 4 the results are comparable to the case without additional feature.\n",
    "Lets plot the results!\n"
   ]
  },
  {
   "cell_type": "code",
   "execution_count": 8,
   "metadata": {},
   "outputs": [
    {
     "data": {
      "text/plain": [
       "[]"
      ]
     },
     "execution_count": 8,
     "metadata": {},
     "output_type": "execute_result"
    },
    {
     "data": {
      "image/png": "[encoded data removed]",
      "text/plain": [
       "<Figure size 576x360 with 2 Axes>"
      ]
     },
     "metadata": {
      "needs_background": "light"
     },
     "output_type": "display_data"
    }
   ],
   "source": [
    "colors = np.array(['blue','red','green','orange'])\n",
    "x_offsets = [-0.1, 0.0, 0.1, 0.2]  # Offsets for each plot on the x-axis\n",
    "\n",
    "fig, axes = plt.subplots(2, figsize=(8, 5))\n",
    "\n",
    "for i in range(n_scenarios):\n",
    "    axes[0].plot(x_offsets[i],accuracy_test[i],\n",
    "                'o',\n",
    "                color= colors[i],\n",
    "                label=f'Scenario {i+1}'\n",
    "            )\n",
    "    axes[1].plot(x_offsets[i],ce_test[i],\n",
    "                'o',\n",
    "                color= colors[i],\n",
    "                label=f'Scenario {i+1}'\n",
    "            )\n",
    "axes[0].axhline(y = accuracy_test_0, color = 'grey', linestyle = 'dashed',\n",
    "                    label = 'With no additional feature')    \n",
    "axes[0].legend()\n",
    "axes[0].set(title='Test Accuracy')\n",
    "axes[0].set_xticks([])  \n",
    "\n",
    "axes[1].axhline(y = ce_test_0, color = 'grey', linestyle = 'dashed',\n",
    "                    label = 'With no additional feature')    \n",
    "axes[1].set(title='Test Cross-Entropy')\n",
    "axes[1].set_xticks([])  "
   ]
  }
 ],
 "metadata": {
  "kernelspec": {
   "display_name": "Python 3",
   "language": "python",
   "name": "python3"
  },
  "language_info": {
   "codemirror_mode": {
    "name": "ipython",
    "version": 3
   },
   "file_extension": ".py",
   "mimetype": "text/x-python",
   "name": "python",
   "nbconvert_exporter": "python",
   "pygments_lexer": "ipython3",
   "version": "3.10.12"
  }
 },
 "nbformat": 4,
 "nbformat_minor": 2
}
