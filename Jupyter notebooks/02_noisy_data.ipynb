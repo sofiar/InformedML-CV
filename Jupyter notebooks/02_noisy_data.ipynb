{
 "cells": [
  {
   "cell_type": "markdown",
   "metadata": {},
   "source": [
    "#  Noisy data\n",
    "In this notebook, we will explore how data quality can affect predictions. We will simulate examples where noise is introduced in the test set, the training set, or both, and examine\n",
    "the effects on model performance.   "
   ]
  },
  {
   "cell_type": "code",
   "execution_count": 1,
   "metadata": {},
   "outputs": [
    {
     "name": "stdout",
     "output_type": "stream",
     "text": [
      "/u/ruizsuar/InformedML-CV\n"
     ]
    }
   ],
   "source": [
    "import numpy as np \n",
    "import matplotlib.pyplot as plt\n",
    "import torch \n",
    "import torch.nn as nn\n",
    "from torch.utils.data import DataLoader, Subset\n",
    "from timeit import default_timer as timer \n",
    "\n",
    "# Import modular\n",
    "%cd ..\n",
    "import modular.samples_setup as cs\n",
    "from modular import engine\n",
    "from modular import model_builder\n",
    "from modular import extra_functions as ef"
   ]
  },
  {
   "cell_type": "markdown",
   "metadata": {},
   "source": [
    "#### 1. Data simulation\n",
    "\n",
    "Let's start by simulating some data. We will simulate a data set containing 5000 samples each of\n",
    "squares and circles. We will save 20% of the data for test and we will use the rest for\n",
    "train the models"
   ]
  },
  {
   "cell_type": "code",
   "execution_count": 2,
   "metadata": {},
   "outputs": [],
   "source": [
    "### Simulate data \n",
    "seed = 262\n",
    "n_samples = [5000]*2\n",
    "\n",
    "output = cs.generate_sample(n = n_samples, noise_prop = 0,var=0,seed=seed)\n",
    "images, labels= (output['images'], output['labels'])\n",
    "\n",
    "# Split test and train\n",
    "n_test = int(sum(n_samples)*0.2)\n",
    "test_index = np.arange(n_test)\n",
    "train_index = np.arange(n_test, sum(n_samples))\n",
    "\n",
    "images_test = images[test_index]\n",
    "images_train = images[train_index]\n",
    "\n",
    "label_test = labels[test_index]\n",
    "label_train = labels[train_index]"
   ]
  },
  {
   "cell_type": "markdown",
   "metadata": {},
   "source": [
    "#### 2. Scenario with no noise\n",
    "Let's start by training the model in a scenario where both the training and the test sets are noise-free, ensuring all samples are perfectly clear\n"
   ]
  },
  {
   "cell_type": "code",
   "execution_count": 4,
   "metadata": {},
   "outputs": [
    {
     "name": "stdout",
     "output_type": "stream",
     "text": [
      "Epoch: 1 | test_ce: 11.27871 | test_acc: 70.3000\n",
      "Epoch: 2 | test_ce: 12.02957 | test_acc: 67.7500\n",
      "Epoch: 3 | test_ce: 9.90794 | test_acc: 75.4500\n",
      "Epoch: 4 | test_ce: 5.52176 | test_acc: 86.2000\n",
      "Epoch: 5 | test_ce: 1.96328 | test_acc: 89.3500\n",
      "Epoch: 6 | test_ce: 1.33277 | test_acc: 92.3500\n",
      "Epoch: 7 | test_ce: 1.84044 | test_acc: 92.3500\n",
      "Epoch: 8 | test_ce: 1.42633 | test_acc: 94.0500\n",
      "Epoch: 9 | test_ce: 1.64422 | test_acc: 93.5500\n",
      "Epoch: 10 | test_ce: 1.38013 | test_acc: 95.8000\n",
      "Epoch: 11 | test_ce: 0.70289 | test_acc: 95.8000\n",
      "Epoch: 12 | test_ce: 0.68674 | test_acc: 95.8000\n"
     ]
    }
   ],
   "source": [
    "# To reduce variability when re-running \n",
    "torch.manual_seed(seed)\n",
    "torch.cuda.manual_seed(seed)\n",
    "torch.cuda.manual_seed_all(seed)\n",
    "torch.backends.cudnn.deterministic = True\n",
    "torch.backends.cudnn.benchmark = False\n",
    "\n",
    "BATCH_SIZE = 50\n",
    "EPOCHS = 12\n",
    "loss_fn = nn.CrossEntropyLoss()\n",
    "\n",
    "# Create tensor\n",
    "X_test = torch.from_numpy(images_test).type(torch.float)\n",
    "X_train = torch.from_numpy(images_train).type(torch.float)\n",
    "\n",
    "y_train = torch.from_numpy(label_train).type(torch.long)\n",
    "y_test = torch.from_numpy(label_test).type(torch.long)\n",
    "\n",
    "## Add channel at dimension 1 (greyscale)\n",
    "X_train = X_train.unsqueeze(1)  \n",
    "X_test = X_test.unsqueeze(1)  \n",
    "        \n",
    "train_dataset = torch.utils.data.TensorDataset(X_train,y_train)\n",
    "test_dataset = torch.utils.data.TensorDataset(X_test,y_test)\n",
    "        \n",
    "# Create data loader and turn datasets into iterables (batches)\n",
    "train_dataloader = DataLoader(train_dataset, \n",
    "                                batch_size=BATCH_SIZE, \n",
    "                                shuffle=False) \n",
    "                           \n",
    "test_dataloader = DataLoader(test_dataset,\n",
    "                                batch_size=BATCH_SIZE,\n",
    "                                shuffle=False)\n",
    "\n",
    "# Initialize model and optimizer\n",
    "model_1 =  model_builder.TVGG(input_shape = 1,  \n",
    "                            hidden_units= 10, \n",
    "                            output_shape = 2)\n",
    "optimizer = torch.optim.SGD(params=model_1.parameters(), lr=0.1)\n",
    "\n",
    "output_1 = engine.train_test_loop(model_1,train_dataloader,\n",
    "                                test_dataloader, optimizer, loss_fn,\n",
    "                                epochs=EPOCHS,print_b=True)\n",
    "\n"
   ]
  },
  {
   "cell_type": "markdown",
   "metadata": {},
   "source": [
    "Quite good!\n",
    "\n",
    "#### 3. Scenario with noise in the test set\n",
    "What happens if out test set is entirely noisy, while the training set remains noise-free?"
   ]
  },
  {
   "cell_type": "code",
   "execution_count": 5,
   "metadata": {},
   "outputs": [
    {
     "name": "stdout",
     "output_type": "stream",
     "text": [
      "Epoch: 1 | test_ce: 11.11308 | test_acc: 68.2000\n",
      "Epoch: 2 | test_ce: 11.13491 | test_acc: 67.8000\n",
      "Epoch: 3 | test_ce: 10.25265 | test_acc: 69.0500\n",
      "Epoch: 4 | test_ce: 13.90320 | test_acc: 58.3000\n",
      "Epoch: 5 | test_ce: 17.90571 | test_acc: 49.5000\n",
      "Epoch: 6 | test_ce: 17.25083 | test_acc: 50.2000\n",
      "Epoch: 7 | test_ce: 17.68653 | test_acc: 48.0500\n",
      "Epoch: 8 | test_ce: 17.75252 | test_acc: 48.1500\n",
      "Epoch: 9 | test_ce: 17.67911 | test_acc: 48.7500\n",
      "Epoch: 10 | test_ce: 17.44876 | test_acc: 49.6000\n",
      "Epoch: 11 | test_ce: 17.55390 | test_acc: 49.3500\n",
      "Epoch: 12 | test_ce: 17.17472 | test_acc: 50.0500\n"
     ]
    }
   ],
   "source": [
    "# Adding noise only to the test set\n",
    "var =0.15\n",
    "BATCH_SIZE = 50\n",
    "EPOCHS = 12\n",
    "loss_fn = nn.CrossEntropyLoss()\n",
    "\n",
    "# Create copy of image sets\n",
    "\n",
    "images_test_e1 = images_test.copy()\n",
    "images_train_e1 = images_train.copy()\n",
    "\n",
    "label_test = labels[test_index]\n",
    "label_train = labels[train_index]\n",
    "\n",
    "# Add noise        \n",
    "for i in range(len(images_test)):\n",
    "        images_test_e1[i] = ef.add_gaussian_noise(images_test_e1[i],\n",
    "                                               var=var)\n",
    "\n",
    "# Create tensor\n",
    "X_test = torch.from_numpy(images_test_e1).type(torch.float)\n",
    "X_train = torch.from_numpy(images_train_e1).type(torch.float)\n",
    "\n",
    "y_test = torch.from_numpy(label_test).type(torch.long)\n",
    "y_train = torch.from_numpy(label_train).type(torch.long)\n",
    "\n",
    "## Add channel at dimension 1 (greyscale)\n",
    "X_train = X_train.unsqueeze(1)  \n",
    "X_test = X_test.unsqueeze(1)  \n",
    "        \n",
    "train_dataset = torch.utils.data.TensorDataset(X_train,y_train)\n",
    "test_dataset = torch.utils.data.TensorDataset(X_test,y_test)\n",
    "        \n",
    "# Create data loader and turn datasets into iterables (batches)\n",
    "train_dataloader = DataLoader(train_dataset, \n",
    "                                batch_size=BATCH_SIZE, \n",
    "                                shuffle=False) \n",
    "                            \n",
    "\n",
    "test_dataloader = DataLoader(test_dataset,\n",
    "                                batch_size=BATCH_SIZE,\n",
    "                                shuffle=False)\n",
    "\n",
    "# Initialize model and optimizer\n",
    "model_2 =  model_builder.TVGG(input_shape = 1,  \n",
    "                            hidden_units= 10, \n",
    "                            output_shape = 2)\n",
    "\n",
    "optimizer = torch.optim.SGD(params=model_2.parameters(), lr=0.1)\n",
    "\n",
    "output_2 = engine.train_test_loop(model_2,train_dataloader,\n",
    "                                test_dataloader, optimizer, loss_fn,\n",
    "                                epochs=EPOCHS,print_b=True)"
   ]
  },
  {
   "cell_type": "markdown",
   "metadata": {},
   "source": [
    "It really worsens!\n",
    "\n",
    "#### 3. Scenario with noise in the train set\n",
    "What happens if our training set is entirely noisy while the test set remains noise-free?\n"
   ]
  },
  {
   "cell_type": "code",
   "execution_count": 6,
   "metadata": {},
   "outputs": [
    {
     "name": "stdout",
     "output_type": "stream",
     "text": [
      "Epoch: 1 | test_ce: 14.47006 | test_acc: 70.8500\n",
      "Epoch: 2 | test_ce: 12.29995 | test_acc: 69.9000\n",
      "Epoch: 3 | test_ce: 12.18634 | test_acc: 67.5500\n",
      "Epoch: 4 | test_ce: 10.55435 | test_acc: 72.3500\n",
      "Epoch: 5 | test_ce: 8.13770 | test_acc: 80.0500\n",
      "Epoch: 6 | test_ce: 4.95141 | test_acc: 86.6000\n",
      "Epoch: 7 | test_ce: 3.59743 | test_acc: 89.9500\n",
      "Epoch: 8 | test_ce: 1.05203 | test_acc: 97.1500\n",
      "Epoch: 9 | test_ce: 1.92796 | test_acc: 96.5000\n",
      "Epoch: 10 | test_ce: 1.66115 | test_acc: 94.9000\n",
      "Epoch: 11 | test_ce: 1.62377 | test_acc: 95.3000\n",
      "Epoch: 12 | test_ce: 1.61314 | test_acc: 95.3000\n"
     ]
    }
   ],
   "source": [
    "# Adding noise only to the train set\n",
    "var =0.15\n",
    "BATCH_SIZE = 50\n",
    "EPOCHS = 12\n",
    "loss_fn = nn.CrossEntropyLoss()\n",
    "\n",
    "# Create copy of image sets\n",
    "\n",
    "images_test_e2 = images_test.copy()\n",
    "images_train_e2 = images_train.copy()\n",
    "\n",
    "label_test = labels[test_index]\n",
    "label_train = labels[train_index]\n",
    "\n",
    "# add Gaussian Noise       \n",
    "for i in range(len(images_test)):\n",
    "        images_train_e2[i] = ef.add_gaussian_noise(images_train_e2[i],\n",
    "                                               var=var)\n",
    "\n",
    "# Create tensor\n",
    "X_test = torch.from_numpy(images_test_e2).type(torch.float)\n",
    "X_train = torch.from_numpy(images_train_e2).type(torch.float)\n",
    "\n",
    "y_test = torch.from_numpy(label_test).type(torch.long)\n",
    "y_train = torch.from_numpy(label_train).type(torch.long)\n",
    "\n",
    "## Add channel at dimension 1 (greyscale)\n",
    "X_train = X_train.unsqueeze(1)  \n",
    "X_test = X_test.unsqueeze(1)  \n",
    "        \n",
    "train_dataset = torch.utils.data.TensorDataset(X_train,y_train)\n",
    "test_dataset = torch.utils.data.TensorDataset(X_test,y_test)\n",
    "        \n",
    "# Create data loader and turn datasets into iterables (batches)\n",
    "train_dataloader = DataLoader(train_dataset, \n",
    "                                batch_size=BATCH_SIZE, \n",
    "                                shuffle=False) \n",
    "                            \n",
    "\n",
    "test_dataloader = DataLoader(test_dataset,\n",
    "                                batch_size=BATCH_SIZE,\n",
    "                                shuffle=False)\n",
    "\n",
    "# Initialize model and optimizer\n",
    "model_3 =  model_builder.TVGG(input_shape = 1,  \n",
    "                            hidden_units= 10, \n",
    "                            output_shape = 2)\n",
    "\n",
    "optimizer = torch.optim.SGD(params=model_3.parameters(), lr=0.1)\n",
    "\n",
    "output_3 = engine.train_test_loop(model_3,train_dataloader,\n",
    "                                test_dataloader, optimizer, loss_fn,\n",
    "                                epochs=EPOCHS,print_b=True)"
   ]
  },
  {
   "cell_type": "markdown",
   "metadata": {},
   "source": [
    "This is not so bad!\n",
    "\n",
    "#### 4. Scenario with noise in both sets\n",
    "Let's see an example where we have noisy data in both sets. We will add noise to half\n",
    "of the training set and half of the test set\n"
   ]
  },
  {
   "cell_type": "code",
   "execution_count": 7,
   "metadata": {},
   "outputs": [
    {
     "name": "stdout",
     "output_type": "stream",
     "text": [
      "Epoch: 1 | test_ce: 11.62045 | test_acc: 72.0500\n",
      "Epoch: 2 | test_ce: 11.37824 | test_acc: 70.5000\n",
      "Epoch: 3 | test_ce: 11.25965 | test_acc: 70.4000\n",
      "Epoch: 4 | test_ce: 10.05169 | test_acc: 73.6500\n",
      "Epoch: 5 | test_ce: 7.65696 | test_acc: 78.9000\n",
      "Epoch: 6 | test_ce: 7.22368 | test_acc: 79.1500\n",
      "Epoch: 7 | test_ce: 6.56874 | test_acc: 80.6000\n",
      "Epoch: 8 | test_ce: 6.34997 | test_acc: 81.6000\n",
      "Epoch: 9 | test_ce: 5.90878 | test_acc: 83.1500\n",
      "Epoch: 10 | test_ce: 6.39517 | test_acc: 81.5500\n",
      "Epoch: 11 | test_ce: 6.20328 | test_acc: 82.1000\n",
      "Epoch: 12 | test_ce: 6.41006 | test_acc: 83.4000\n"
     ]
    }
   ],
   "source": [
    "var =0.15\n",
    "BATCH_SIZE = 50\n",
    "EPOCHS = 12\n",
    "loss_fn = nn.CrossEntropyLoss()\n",
    "\n",
    "# Create copy of image sets\n",
    "images_test_e3 = images_test.copy()\n",
    "images_train_e3 = images_train.copy()\n",
    "\n",
    "# add noise to half of them \n",
    "n_test_noisy = int(len(images_test)*0.5)\n",
    "n_train_noisy = int(len(images_train)*0.5)\n",
    "\n",
    "# add Gaussian Noise       \n",
    "for i in range(n_test_noisy):\n",
    "        images_test_e3[i] = ef.add_gaussian_noise(images_test_e3[i],\n",
    "                                               var=var)\n",
    "        \n",
    "for i in range(n_train_noisy):\n",
    "        images_train_e3[i] = ef.add_gaussian_noise(images_train_e3[i],\n",
    "                                                var=var)\n",
    "\n",
    "# Create tensor\n",
    "X_test = torch.from_numpy(images_test_e3).type(torch.float)\n",
    "X_train = torch.from_numpy(images_train_e3).type(torch.float)\n",
    "\n",
    "y_test = torch.from_numpy(label_test).type(torch.long)\n",
    "y_train = torch.from_numpy(label_train).type(torch.long)\n",
    "\n",
    "## Add channel at dimension 1 (greyscale)\n",
    "X_train = X_train.unsqueeze(1)  \n",
    "X_test = X_test.unsqueeze(1)  \n",
    "        \n",
    "train_dataset = torch.utils.data.TensorDataset(X_train,y_train)\n",
    "test_dataset = torch.utils.data.TensorDataset(X_test,y_test)\n",
    "        \n",
    "# Create data loader and turn datasets into iterables (batches)\n",
    "train_dataloader = DataLoader(train_dataset, \n",
    "                                batch_size=BATCH_SIZE, \n",
    "                                shuffle=False) \n",
    "                            \n",
    "\n",
    "test_dataloader = DataLoader(test_dataset,\n",
    "                                batch_size=BATCH_SIZE,\n",
    "                                shuffle=False)\n",
    "\n",
    "\n",
    "# Initialize model and optimizer\n",
    "model_4 =  model_builder.TVGG(input_shape = 1,  \n",
    "                            hidden_units= 10, \n",
    "                            output_shape = 2)\n",
    "\n",
    "optimizer = torch.optim.SGD(params=model_4.parameters(), lr=0.1)\n",
    "\n",
    "output_4 = engine.train_test_loop(model_4,train_dataloader,\n",
    "                                test_dataloader, optimizer, loss_fn,\n",
    "                                epochs=EPOCHS,print_b=True)                        "
   ]
  }
 ],
 "metadata": {
  "kernelspec": {
   "display_name": "Python 3",
   "language": "python",
   "name": "python3"
  },
  "language_info": {
   "codemirror_mode": {
    "name": "ipython",
    "version": 3
   },
   "file_extension": ".py",
   "mimetype": "text/x-python",
   "name": "python",
   "nbconvert_exporter": "python",
   "pygments_lexer": "ipython3",
   "version": "3.10.12"
  }
 },
 "nbformat": 4,
 "nbformat_minor": 2
}
